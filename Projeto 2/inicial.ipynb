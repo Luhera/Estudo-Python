{
 "cells": [
  {
   "cell_type": "markdown",
   "metadata": {},
   "source": [
    "# Python Insights - Analisando Dados com Python\n",
    "\n",
    "### Case - Cancelamento de Clientes\n",
    "\n",
    "Você foi contratado por uma empresa com mais de 800 mil clientes para um projeto de Dados. Recentemente a empresa percebeu que da sua base total de clientes, a maioria são clientes inativos, ou seja, que já cancelaram o serviço.\n",
    "\n",
    "Precisando melhorar seus resultados ela quer conseguir entender os principais motivos desses cancelamentos e quais as ações mais eficientes para reduzir esse número.\n",
    "\n",
    "Base de dados e arquivos: https://drive.google.com/drive/folders/1uDesZePdkhiraJmiyeZ-w5tfc8XsNYFZ?usp=drive_link\n",
    "\n"
   ]
  },
  {
   "cell_type": "code",
   "execution_count": null,
   "metadata": {},
   "outputs": [],
   "source": [
    "# Passo a passo\n",
    "# Passo 1: Importar base de dados\n",
    "# Passo 2: Visualizar base de dados\n",
    "# Passo 3: Corrigir cagadas da base de dados\n",
    "# Passo 4: Análise dos cancelamentos\n",
    "# Passo 5: Análise da causa dos cancelamentos (como as colunas impactam no cancelamento?)\n",
    "# Passo a passo do projeto\n",
    "# Passo 1: Importar a base de dados\n",
    "#!pip install pandas numpy openpyxl nbformat ipykernel plotly\n"
   ]
  },
  {
   "cell_type": "code",
   "execution_count": null,
   "metadata": {},
   "outputs": [],
   "source": [
    "# Passo 1: Importar base de dados\n",
    "\n",
    "import pandas as pd\n",
    "\n",
    "# Passo 2: Visualizar base de dados\n",
    "tabela = pd.read_csv(\"cancelamentos.csv\")\n",
    "\n",
    "#colunas inutis - informações que nao me ajudam e so me atrapalham apagando coluna CustomerID\n",
    "tabela = tabela.drop(columns=\"CustomerID\")\n",
    "\n",
    "display(tabela)"
   ]
  },
  {
   "cell_type": "code",
   "execution_count": null,
   "metadata": {},
   "outputs": [],
   "source": [
    "# Passo 3: Corrigir cagadas da base de dados\n",
    "display(tabela.info())\n",
    "#Corrigindo valores vazios\n",
    "#Excluindo linhas vazios\n",
    "tabela = tabela.dropna()\n",
    "display(tabela.info())\n",
    "\n"
   ]
  },
  {
   "cell_type": "code",
   "execution_count": null,
   "metadata": {},
   "outputs": [],
   "source": [
    "# Passo 4: Análise inicial dos cancelamentos\n",
    "\n",
    "# quantas pessoas cancelaram e quantas não cancelaram\n",
    "display(tabela[\"cancelou\"].value_counts())\n",
    "\n",
    "# em percentual\n",
    "display(tabela[\"cancelou\"].value_counts(normalize=True))"
   ]
  },
  {
   "cell_type": "code",
   "execution_count": null,
   "metadata": {},
   "outputs": [],
   "source": [
    "# Passo 5: Análise das causas dos cancelamentos (como as colunas da base impactam no cancelamento)\n",
    "# gráficos/dashboards\n",
    "\n",
    "import plotly.express as px\n",
    "\n",
    "#para cada coluna da minha tabela\n",
    "for coluna in tabela.columns:\n",
    "  #criar o grafico\n",
    "  grafico = px.histogram(tabela,x=coluna,color=\"cancelou\")\n",
    "  #exibir o grafico\n",
    "  grafico.show()\n"
   ]
  },
  {
   "cell_type": "code",
   "execution_count": null,
   "metadata": {},
   "outputs": [],
   "source": [
    "# analise das causas dos cancelamentos\n",
    "\n",
    "# se um cliente ligar mais de 4x para o call center ele vai cancelar\n",
    "  #criar um processo que\n",
    "\n",
    "# se um cliente atrasar o pagamento masi de 20 dias ele vai cancelar o plano \n",
    "\n",
    "# todos os clientes do contrato mensal cancelaram\n",
    "# para filtrar uma tabela é tabela = tabela[condição]\n",
    "\n",
    "#condicao\n",
    "#tabela[\"duracao_contrato\"]!=\"Monthly\"\n",
    "#tabela[\"ligacoes_callcenter\"]<=4\n",
    "#tabela[\"dias_atrasos\"]<=20\n",
    "\n",
    "tabela = tabela[tabela[\"duracao_contrato\"]!=\"Monthly\"] #sem duração do contrato mensal\n",
    "\n",
    "tabela = tabela[tabela[\"ligacoes_callcenter\"]<=4] #sem ligação do call center acima de 4x\n",
    "\n",
    "tabela = tabela[tabela[\"dias_atraso\"]<=20] #sem atraso  de pagamento maior do que 20x \n",
    "\n",
    "\n",
    "display(tabela[\"cancelou\"].value_counts(normalize=True))"
   ]
  }
 ],
 "metadata": {
  "kernelspec": {
   "display_name": "base",
   "language": "python",
   "name": "python3"
  },
  "language_info": {
   "codemirror_mode": {
    "name": "ipython",
    "version": 3
   },
   "file_extension": ".py",
   "mimetype": "text/x-python",
   "name": "python",
   "nbconvert_exporter": "python",
   "pygments_lexer": "ipython3",
   "version": "3.11.4"
  },
  "orig_nbformat": 4
 },
 "nbformat": 4,
 "nbformat_minor": 2
}
