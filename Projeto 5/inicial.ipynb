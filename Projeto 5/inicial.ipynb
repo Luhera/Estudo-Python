{
 "cells": [
  {
   "cell_type": "markdown",
   "metadata": {},
   "source": [
    "Trabalho de Data Science - Entrega 2"
   ]
  },
  {
   "cell_type": "markdown",
   "metadata": {},
   "source": [
    "Instruções\n",
    "Caros alunos,\n",
    "Espero que estejam todos bem. Agora que já selecionaram e exploraram inicialmente o dataset escolhido, vamos avançar para a próxima etapa desta atividade, focada em analisar os dados em profundidade e preparar uma apresentação dos resultados obtidos.\n",
    "\n",
    "1. Processamento dos dados:\n",
    "   - Análise Exploratória: Realizem uma análise exploratória inicial para entenderem as características básicas do dataset, como quantidade de registros, variáveis disponíveis e possíveis lacunas nos dados.\n",
    "   - Preprocessamento: Apliquem técnicas de limpeza de dados para corrigir ou remover registros incorretos ou incompletos e transformar variáveis conforme necessário para a análise.\n",
    "   - Análise Estatística Detalhada: Utilizem técnicas de análise de dados para extrair insights significativos. Identifiquem padrões, tendências e anomalias. Se necessário, utilizem gráficos e outras ferramentas visuais para facilitar a compreensão dos dados.\n",
    "\n",
    "2. Preparação da Apresentação:\n",
    "   - Estruturação: Organizem sua apresentação de 10 minutos, começando com uma introdução ao dataset, seguida pela metodologia de análise e os principais achados.\n",
    "   - Visualização de Dados: Incluam visualizações claras e informativas que resumam as descobertas chave. Certifiquem-se de que cada gráfico tenha uma legenda explicativa e seja diretamente relevante para os pontos discutidos."
   ]
  },
  {
   "cell_type": "code",
   "execution_count": null,
   "metadata": {},
   "outputs": [],
   "source": [
    "# Passo a passo\n",
    "# Passo 1: Importar base de dados\n",
    "# Passo 2: Visualizar base de dados\n",
    "# Passo 3: Corrigir erros da base de dados\n",
    "# Passo 4: Análise das vacinação\n",
    "# Passo 5: Análise de qual vacina foi mais tomada(como as colunas impactam nos casos?)\n",
    "# Passo a passo do projeto\n",
    "# Passo 1: Importar a base de dados\n",
    "#!pip install pandas numpy openpyxl nbformat ipykernel plotly\n"
   ]
  },
  {
   "cell_type": "code",
   "execution_count": 2,
   "metadata": {},
   "outputs": [
    {
     "data": {
      "text/html": [
       "<div>\n",
       "<style scoped>\n",
       "    .dataframe tbody tr th:only-of-type {\n",
       "        vertical-align: middle;\n",
       "    }\n",
       "\n",
       "    .dataframe tbody tr th {\n",
       "        vertical-align: top;\n",
       "    }\n",
       "\n",
       "    .dataframe thead th {\n",
       "        text-align: right;\n",
       "    }\n",
       "</style>\n",
       "<table border=\"1\" class=\"dataframe\">\n",
       "  <thead>\n",
       "    <tr style=\"text-align: right;\">\n",
       "      <th></th>\n",
       "      <th>CODIGO</th>\n",
       "      <th>QUANTIDADE</th>\n",
       "      <th>DATA</th>\n",
       "      <th>TP_VACINA</th>\n",
       "      <th>DS_FABRICANTE</th>\n",
       "    </tr>\n",
       "  </thead>\n",
       "  <tbody>\n",
       "    <tr>\n",
       "      <th>0</th>\n",
       "      <td>430003</td>\n",
       "      <td>-100</td>\n",
       "      <td>2021-12-03</td>\n",
       "      <td>AstraZeneca</td>\n",
       "      <td>FUNDACAO OSWALDO CRUZ</td>\n",
       "    </tr>\n",
       "    <tr>\n",
       "      <th>1</th>\n",
       "      <td>430003</td>\n",
       "      <td>-100</td>\n",
       "      <td>2021-12-03</td>\n",
       "      <td>CoronaVac</td>\n",
       "      <td>FUNDACAO BUTANTAN</td>\n",
       "    </tr>\n",
       "    <tr>\n",
       "      <th>2</th>\n",
       "      <td>430003</td>\n",
       "      <td>-5</td>\n",
       "      <td>2021-10-25</td>\n",
       "      <td>CoronaVac</td>\n",
       "      <td>INSTITUTO BUTANTAN</td>\n",
       "    </tr>\n",
       "    <tr>\n",
       "      <th>3</th>\n",
       "      <td>430003</td>\n",
       "      <td>5</td>\n",
       "      <td>2021-10-20</td>\n",
       "      <td>AstraZeneca</td>\n",
       "      <td>FUNDACAO OSWALDO CRUZ</td>\n",
       "    </tr>\n",
       "    <tr>\n",
       "      <th>4</th>\n",
       "      <td>430003</td>\n",
       "      <td>6</td>\n",
       "      <td>2022-05-11</td>\n",
       "      <td>Pfizer</td>\n",
       "      <td>PFIZER MANUFACTURING BELGIUM NV - BELGICA</td>\n",
       "    </tr>\n",
       "    <tr>\n",
       "      <th>...</th>\n",
       "      <td>...</td>\n",
       "      <td>...</td>\n",
       "      <td>...</td>\n",
       "      <td>...</td>\n",
       "      <td>...</td>\n",
       "    </tr>\n",
       "    <tr>\n",
       "      <th>96197</th>\n",
       "      <td>432380</td>\n",
       "      <td>858</td>\n",
       "      <td>2021-10-26</td>\n",
       "      <td>Pfizer</td>\n",
       "      <td>PFIZER MANUFACTURING BELGIUM NV - BELGICA</td>\n",
       "    </tr>\n",
       "    <tr>\n",
       "      <th>96198</th>\n",
       "      <td>432380</td>\n",
       "      <td>900</td>\n",
       "      <td>2021-09-27</td>\n",
       "      <td>Pfizer</td>\n",
       "      <td>PFIZER MANUFACTURING BELGIUM NV - BELGICA</td>\n",
       "    </tr>\n",
       "    <tr>\n",
       "      <th>96199</th>\n",
       "      <td>432380</td>\n",
       "      <td>920</td>\n",
       "      <td>2021-07-01</td>\n",
       "      <td>AstraZeneca</td>\n",
       "      <td>FUNDACAO OSWALDO CRUZ</td>\n",
       "    </tr>\n",
       "    <tr>\n",
       "      <th>96200</th>\n",
       "      <td>432380</td>\n",
       "      <td>1222</td>\n",
       "      <td>2022-01-17</td>\n",
       "      <td>Pfizer</td>\n",
       "      <td>PFIZER MANUFACTURING BELGIUM NV - BELGICA</td>\n",
       "    </tr>\n",
       "    <tr>\n",
       "      <th>96201</th>\n",
       "      <td>432380</td>\n",
       "      <td>1434</td>\n",
       "      <td>2022-01-12</td>\n",
       "      <td>Pfizer</td>\n",
       "      <td>PFIZER MANUFACTURING BELGIUM NV - BELGICA</td>\n",
       "    </tr>\n",
       "  </tbody>\n",
       "</table>\n",
       "<p>96202 rows × 5 columns</p>\n",
       "</div>"
      ],
      "text/plain": [
       "       CODIGO  QUANTIDADE        DATA    TP_VACINA  \\\n",
       "0      430003        -100  2021-12-03  AstraZeneca   \n",
       "1      430003        -100  2021-12-03    CoronaVac   \n",
       "2      430003          -5  2021-10-25    CoronaVac   \n",
       "3      430003           5  2021-10-20  AstraZeneca   \n",
       "4      430003           6  2022-05-11       Pfizer   \n",
       "...       ...         ...         ...          ...   \n",
       "96197  432380         858  2021-10-26       Pfizer   \n",
       "96198  432380         900  2021-09-27       Pfizer   \n",
       "96199  432380         920  2021-07-01  AstraZeneca   \n",
       "96200  432380        1222  2022-01-17       Pfizer   \n",
       "96201  432380        1434  2022-01-12       Pfizer   \n",
       "\n",
       "                                   DS_FABRICANTE  \n",
       "0                          FUNDACAO OSWALDO CRUZ  \n",
       "1                              FUNDACAO BUTANTAN  \n",
       "2                             INSTITUTO BUTANTAN  \n",
       "3                          FUNDACAO OSWALDO CRUZ  \n",
       "4      PFIZER MANUFACTURING BELGIUM NV - BELGICA  \n",
       "...                                          ...  \n",
       "96197  PFIZER MANUFACTURING BELGIUM NV - BELGICA  \n",
       "96198  PFIZER MANUFACTURING BELGIUM NV - BELGICA  \n",
       "96199                      FUNDACAO OSWALDO CRUZ  \n",
       "96200  PFIZER MANUFACTURING BELGIUM NV - BELGICA  \n",
       "96201  PFIZER MANUFACTURING BELGIUM NV - BELGICA  \n",
       "\n",
       "[96202 rows x 5 columns]"
      ]
     },
     "metadata": {},
     "output_type": "display_data"
    }
   ],
   "source": [
    "# Passo 1: Importar base de dados\n",
    "\n",
    "import pandas as pd\n",
    "\n",
    "# Passo 2: Visualizar base de dados\n",
    "tabela = pd.read_csv(\"vacinacao-covid.csv\")\n",
    "\n",
    "\n",
    "display(tabela)"
   ]
  },
  {
   "cell_type": "code",
   "execution_count": 3,
   "metadata": {},
   "outputs": [
    {
     "name": "stdout",
     "output_type": "stream",
     "text": [
      "<class 'pandas.core.frame.DataFrame'>\n",
      "RangeIndex: 96202 entries, 0 to 96201\n",
      "Data columns (total 5 columns):\n",
      " #   Column         Non-Null Count  Dtype \n",
      "---  ------         --------------  ----- \n",
      " 0   CODIGO         96202 non-null  int64 \n",
      " 1   QUANTIDADE     96202 non-null  int64 \n",
      " 2   DATA           96202 non-null  object\n",
      " 3   TP_VACINA      96200 non-null  object\n",
      " 4   DS_FABRICANTE  96200 non-null  object\n",
      "dtypes: int64(2), object(3)\n",
      "memory usage: 3.7+ MB\n"
     ]
    },
    {
     "data": {
      "text/plain": [
       "None"
      ]
     },
     "metadata": {},
     "output_type": "display_data"
    },
    {
     "name": "stdout",
     "output_type": "stream",
     "text": [
      "<class 'pandas.core.frame.DataFrame'>\n",
      "Index: 96200 entries, 0 to 96201\n",
      "Data columns (total 5 columns):\n",
      " #   Column         Non-Null Count  Dtype \n",
      "---  ------         --------------  ----- \n",
      " 0   CODIGO         96200 non-null  int64 \n",
      " 1   QUANTIDADE     96200 non-null  int64 \n",
      " 2   DATA           96200 non-null  object\n",
      " 3   TP_VACINA      96200 non-null  object\n",
      " 4   DS_FABRICANTE  96200 non-null  object\n",
      "dtypes: int64(2), object(3)\n",
      "memory usage: 4.4+ MB\n"
     ]
    },
    {
     "data": {
      "text/plain": [
       "None"
      ]
     },
     "metadata": {},
     "output_type": "display_data"
    }
   ],
   "source": [
    "# Passo 3: Corrigir erros da base de dados\n",
    "\n",
    "display(tabela.info())\n",
    "\n",
    "#Corrigindo valores vazios\n",
    "#Excluindo linhas vazios\n",
    "\n",
    "tabela = tabela.dropna()\n",
    "\n",
    "display(tabela.info())"
   ]
  },
  {
   "cell_type": "code",
   "execution_count": 8,
   "metadata": {},
   "outputs": [
    {
     "name": "stdout",
     "output_type": "stream",
     "text": [
      "TP_VACINA\n",
      "AstraZeneca     9275233\n",
      "CoronaVac       5882650\n",
      "Janssen         1723515\n",
      "Pfizer         14967572\n",
      "Name: QUANTIDADE, dtype: int64\n"
     ]
    }
   ],
   "source": [
    "# Passo 4: Análise inicial dos tipos de vacinas tomadas\n",
    "\n",
    "# quantas pessoas tomaram um tipo de vacina \n",
    "vacinas = tabela.groupby('TP_VACINA')['QUANTIDADE'].sum()\n",
    "\n",
    "print(vacinas)\n",
    "\n",
    "\n"
   ]
  },
  {
   "cell_type": "code",
   "execution_count": 9,
   "metadata": {},
   "outputs": [
    {
     "name": "stdout",
     "output_type": "stream",
     "text": [
      "Total de pessoas vacinadas em 2023: 1680143\n",
      "Vacinas administradas em 2023: ['CoronaVac' 'Pfizer' 'Janssen' 'AstraZeneca']\n"
     ]
    }
   ],
   "source": [
    "# Passo 4: Análise inicial dos tipos de vacinas tomadas\n",
    "\n",
    "# Converta a coluna 'DATA' para o tipo datetime\n",
    "tabela['DATA'] = pd.to_datetime(tabela['DATA'])\n",
    "\n",
    "# Filtre os dados para o ano que você está interessado, por exemplo, 2023\n",
    "tabela_2023 = tabela[tabela['DATA'].dt.year == 2023]\n",
    "\n",
    "# Calcule o total de pessoas vacinadas em 2023\n",
    "total_vacinados_2023 = tabela_2023['QUANTIDADE'].sum()\n",
    "\n",
    "# Obtenha as vacinas administradas em 2023\n",
    "vacinas_2023 = tabela_2023['TP_VACINA'].unique()\n",
    "\n",
    "print(f\"Total de pessoas vacinadas em 2023: {total_vacinados_2023}\")\n",
    "print(f\"Vacinas administradas em 2023: {vacinas_2023}\")\n"
   ]
  }
 ],
 "metadata": {
  "kernelspec": {
   "display_name": "venv",
   "language": "python",
   "name": "python3"
  },
  "language_info": {
   "codemirror_mode": {
    "name": "ipython",
    "version": 3
   },
   "file_extension": ".py",
   "mimetype": "text/x-python",
   "name": "python",
   "nbconvert_exporter": "python",
   "pygments_lexer": "ipython3",
   "version": "3.11.4"
  }
 },
 "nbformat": 4,
 "nbformat_minor": 2
}
