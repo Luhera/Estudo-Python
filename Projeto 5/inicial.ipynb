{
 "cells": [
  {
   "cell_type": "markdown",
   "metadata": {},
   "source": [
    "Trabalho de Data Science - Entrega 2"
   ]
  },
  {
   "cell_type": "markdown",
   "metadata": {},
   "source": [
    "Instruções\n",
    "Caros alunos,\n",
    "Espero que estejam todos bem. Agora que já selecionaram e exploraram inicialmente o dataset escolhido, vamos avançar para a próxima etapa desta atividade, focada em analisar os dados em profundidade e preparar uma apresentação dos resultados obtidos.\n",
    "\n",
    "1. Processamento dos dados:\n",
    "   - Análise Exploratória: Realizem uma análise exploratória inicial para entenderem as características básicas do dataset, como quantidade de registros, variáveis disponíveis e possíveis lacunas nos dados.\n",
    "   - Preprocessamento: Apliquem técnicas de limpeza de dados para corrigir ou remover registros incorretos ou incompletos e transformar variáveis conforme necessário para a análise.\n",
    "   - Análise Estatística Detalhada: Utilizem técnicas de análise de dados para extrair insights significativos. Identifiquem padrões, tendências e anomalias. Se necessário, utilizem gráficos e outras ferramentas visuais para facilitar a compreensão dos dados.\n",
    "\n",
    "2. Preparação da Apresentação:\n",
    "   - Estruturação: Organizem sua apresentação de 10 minutos, começando com uma introdução ao dataset, seguida pela metodologia de análise e os principais achados.\n",
    "   - Visualização de Dados: Incluam visualizações claras e informativas que resumam as descobertas chave. Certifiquem-se de que cada gráfico tenha uma legenda explicativa e seja diretamente relevante para os pontos discutidos."
   ]
  },
  {
   "cell_type": "code",
   "execution_count": null,
   "metadata": {},
   "outputs": [],
   "source": [
    "# Passo a passo\n",
    "# Passo 1: Importar base de dados\n",
    "# Passo 2: Visualizar base de dados\n",
    "# Passo 3: Corrigir erros da base de dados\n",
    "# Passo 4: Análise das vacinação\n",
    "# Passo 5: Análise de qual vacina foi mais tomada(como as colunas impactam nos casos?)\n",
    "# Passo a passo do projeto\n",
    "# Passo 1: Importar a base de dados\n",
    "#!pip install pandas numpy openpyxl nbformat ipykernel plotly\n"
   ]
  },
  {
   "cell_type": "code",
   "execution_count": 2,
   "metadata": {},
   "outputs": [
    {
     "data": {
      "text/html": [
       "<div>\n",
       "<style scoped>\n",
       "    .dataframe tbody tr th:only-of-type {\n",
       "        vertical-align: middle;\n",
       "    }\n",
       "\n",
       "    .dataframe tbody tr th {\n",
       "        vertical-align: top;\n",
       "    }\n",
       "\n",
       "    .dataframe thead th {\n",
       "        text-align: right;\n",
       "    }\n",
       "</style>\n",
       "<table border=\"1\" class=\"dataframe\">\n",
       "  <thead>\n",
       "    <tr style=\"text-align: right;\">\n",
       "      <th></th>\n",
       "      <th>CODIGO</th>\n",
       "      <th>QUANTIDADE</th>\n",
       "      <th>DATA</th>\n",
       "      <th>TP_VACINA</th>\n",
       "      <th>DS_FABRICANTE</th>\n",
       "    </tr>\n",
       "  </thead>\n",
       "  <tbody>\n",
       "    <tr>\n",
       "      <th>0</th>\n",
       "      <td>430003</td>\n",
       "      <td>-100</td>\n",
       "      <td>2021-12-03</td>\n",
       "      <td>AstraZeneca</td>\n",
       "      <td>FUNDACAO OSWALDO CRUZ</td>\n",
       "    </tr>\n",
       "    <tr>\n",
       "      <th>1</th>\n",
       "      <td>430003</td>\n",
       "      <td>-100</td>\n",
       "      <td>2021-12-03</td>\n",
       "      <td>CoronaVac</td>\n",
       "      <td>FUNDACAO BUTANTAN</td>\n",
       "    </tr>\n",
       "    <tr>\n",
       "      <th>2</th>\n",
       "      <td>430003</td>\n",
       "      <td>-5</td>\n",
       "      <td>2021-10-25</td>\n",
       "      <td>CoronaVac</td>\n",
       "      <td>INSTITUTO BUTANTAN</td>\n",
       "    </tr>\n",
       "    <tr>\n",
       "      <th>3</th>\n",
       "      <td>430003</td>\n",
       "      <td>5</td>\n",
       "      <td>2021-10-20</td>\n",
       "      <td>AstraZeneca</td>\n",
       "      <td>FUNDACAO OSWALDO CRUZ</td>\n",
       "    </tr>\n",
       "    <tr>\n",
       "      <th>4</th>\n",
       "      <td>430003</td>\n",
       "      <td>6</td>\n",
       "      <td>2022-05-11</td>\n",
       "      <td>Pfizer</td>\n",
       "      <td>PFIZER MANUFACTURING BELGIUM NV - BELGICA</td>\n",
       "    </tr>\n",
       "    <tr>\n",
       "      <th>...</th>\n",
       "      <td>...</td>\n",
       "      <td>...</td>\n",
       "      <td>...</td>\n",
       "      <td>...</td>\n",
       "      <td>...</td>\n",
       "    </tr>\n",
       "    <tr>\n",
       "      <th>96197</th>\n",
       "      <td>432380</td>\n",
       "      <td>858</td>\n",
       "      <td>2021-10-26</td>\n",
       "      <td>Pfizer</td>\n",
       "      <td>PFIZER MANUFACTURING BELGIUM NV - BELGICA</td>\n",
       "    </tr>\n",
       "    <tr>\n",
       "      <th>96198</th>\n",
       "      <td>432380</td>\n",
       "      <td>900</td>\n",
       "      <td>2021-09-27</td>\n",
       "      <td>Pfizer</td>\n",
       "      <td>PFIZER MANUFACTURING BELGIUM NV - BELGICA</td>\n",
       "    </tr>\n",
       "    <tr>\n",
       "      <th>96199</th>\n",
       "      <td>432380</td>\n",
       "      <td>920</td>\n",
       "      <td>2021-07-01</td>\n",
       "      <td>AstraZeneca</td>\n",
       "      <td>FUNDACAO OSWALDO CRUZ</td>\n",
       "    </tr>\n",
       "    <tr>\n",
       "      <th>96200</th>\n",
       "      <td>432380</td>\n",
       "      <td>1222</td>\n",
       "      <td>2022-01-17</td>\n",
       "      <td>Pfizer</td>\n",
       "      <td>PFIZER MANUFACTURING BELGIUM NV - BELGICA</td>\n",
       "    </tr>\n",
       "    <tr>\n",
       "      <th>96201</th>\n",
       "      <td>432380</td>\n",
       "      <td>1434</td>\n",
       "      <td>2022-01-12</td>\n",
       "      <td>Pfizer</td>\n",
       "      <td>PFIZER MANUFACTURING BELGIUM NV - BELGICA</td>\n",
       "    </tr>\n",
       "  </tbody>\n",
       "</table>\n",
       "<p>96202 rows × 5 columns</p>\n",
       "</div>"
      ],
      "text/plain": [
       "       CODIGO  QUANTIDADE        DATA    TP_VACINA  \\\n",
       "0      430003        -100  2021-12-03  AstraZeneca   \n",
       "1      430003        -100  2021-12-03    CoronaVac   \n",
       "2      430003          -5  2021-10-25    CoronaVac   \n",
       "3      430003           5  2021-10-20  AstraZeneca   \n",
       "4      430003           6  2022-05-11       Pfizer   \n",
       "...       ...         ...         ...          ...   \n",
       "96197  432380         858  2021-10-26       Pfizer   \n",
       "96198  432380         900  2021-09-27       Pfizer   \n",
       "96199  432380         920  2021-07-01  AstraZeneca   \n",
       "96200  432380        1222  2022-01-17       Pfizer   \n",
       "96201  432380        1434  2022-01-12       Pfizer   \n",
       "\n",
       "                                   DS_FABRICANTE  \n",
       "0                          FUNDACAO OSWALDO CRUZ  \n",
       "1                              FUNDACAO BUTANTAN  \n",
       "2                             INSTITUTO BUTANTAN  \n",
       "3                          FUNDACAO OSWALDO CRUZ  \n",
       "4      PFIZER MANUFACTURING BELGIUM NV - BELGICA  \n",
       "...                                          ...  \n",
       "96197  PFIZER MANUFACTURING BELGIUM NV - BELGICA  \n",
       "96198  PFIZER MANUFACTURING BELGIUM NV - BELGICA  \n",
       "96199                      FUNDACAO OSWALDO CRUZ  \n",
       "96200  PFIZER MANUFACTURING BELGIUM NV - BELGICA  \n",
       "96201  PFIZER MANUFACTURING BELGIUM NV - BELGICA  \n",
       "\n",
       "[96202 rows x 5 columns]"
      ]
     },
     "metadata": {},
     "output_type": "display_data"
    }
   ],
   "source": [
    "# Passo 1: Importar base de dados\n",
    "\n",
    "import pandas as pd\n",
    "\n",
    "# Passo 2: Visualizar base de dados\n",
    "tabela = pd.read_csv(\"vacinacao-covid.csv\")\n",
    "\n",
    "\n",
    "display(tabela)"
   ]
  },
  {
   "cell_type": "code",
   "execution_count": 3,
   "metadata": {},
   "outputs": [
    {
     "name": "stdout",
     "output_type": "stream",
     "text": [
      "<class 'pandas.core.frame.DataFrame'>\n",
      "RangeIndex: 96202 entries, 0 to 96201\n",
      "Data columns (total 5 columns):\n",
      " #   Column         Non-Null Count  Dtype \n",
      "---  ------         --------------  ----- \n",
      " 0   CODIGO         96202 non-null  int64 \n",
      " 1   QUANTIDADE     96202 non-null  int64 \n",
      " 2   DATA           96202 non-null  object\n",
      " 3   TP_VACINA      96200 non-null  object\n",
      " 4   DS_FABRICANTE  96200 non-null  object\n",
      "dtypes: int64(2), object(3)\n",
      "memory usage: 3.7+ MB\n"
     ]
    },
    {
     "data": {
      "text/plain": [
       "None"
      ]
     },
     "metadata": {},
     "output_type": "display_data"
    },
    {
     "name": "stdout",
     "output_type": "stream",
     "text": [
      "<class 'pandas.core.frame.DataFrame'>\n",
      "Index: 96200 entries, 0 to 96201\n",
      "Data columns (total 5 columns):\n",
      " #   Column         Non-Null Count  Dtype \n",
      "---  ------         --------------  ----- \n",
      " 0   CODIGO         96200 non-null  int64 \n",
      " 1   QUANTIDADE     96200 non-null  int64 \n",
      " 2   DATA           96200 non-null  object\n",
      " 3   TP_VACINA      96200 non-null  object\n",
      " 4   DS_FABRICANTE  96200 non-null  object\n",
      "dtypes: int64(2), object(3)\n",
      "memory usage: 4.4+ MB\n"
     ]
    },
    {
     "data": {
      "text/plain": [
       "None"
      ]
     },
     "metadata": {},
     "output_type": "display_data"
    }
   ],
   "source": [
    "# Passo 3: Corrigir erros da base de dados\n",
    "\n",
    "display(tabela.info())\n",
    "\n",
    "#Corrigindo valores vazios\n",
    "#Excluindo linhas vazios\n",
    "\n",
    "tabela = tabela.dropna()\n",
    "\n",
    "display(tabela.info())"
   ]
  },
  {
   "cell_type": "code",
   "execution_count": 8,
   "metadata": {},
   "outputs": [
    {
     "name": "stdout",
     "output_type": "stream",
     "text": [
      "TP_VACINA\n",
      "AstraZeneca     9275233\n",
      "CoronaVac       5882650\n",
      "Janssen         1723515\n",
      "Pfizer         14967572\n",
      "Name: QUANTIDADE, dtype: int64\n"
     ]
    }
   ],
   "source": [
    "# Passo 4: Análise inicial dos tipos de vacinas tomadas\n",
    "\n",
    "# quantas pessoas tomaram um tipo de vacina \n",
    "vacinas = tabela.groupby('TP_VACINA')['QUANTIDADE'].sum()\n",
    "\n",
    "print(vacinas)\n",
    "\n",
    "\n"
   ]
  },
  {
   "cell_type": "code",
   "execution_count": 9,
   "metadata": {},
   "outputs": [
    {
     "name": "stdout",
     "output_type": "stream",
     "text": [
      "Total de pessoas vacinadas em 2023: 1680143\n",
      "Vacinas administradas em 2023: ['CoronaVac' 'Pfizer' 'Janssen' 'AstraZeneca']\n"
     ]
    }
   ],
   "source": [
    "# Passo 4: Análise inicial dos tipos de vacinas tomadas\n",
    "\n",
    "# Converta a coluna 'DATA' para o tipo datetime\n",
    "tabela['DATA'] = pd.to_datetime(tabela['DATA'])\n",
    "\n",
    "# Filtre os dados para o ano que você está interessado, por exemplo, 2023\n",
    "tabela_2023 = tabela[tabela['DATA'].dt.year == 2023]\n",
    "\n",
    "# Calcule o total de pessoas vacinadas em 2023\n",
    "total_vacinados_2023 = tabela_2023['QUANTIDADE'].sum()\n",
    "\n",
    "# Obtenha as vacinas administradas em 2023\n",
    "vacinas_2023 = tabela_2023['TP_VACINA'].unique()\n",
    "\n",
    "print(f\"Total de pessoas vacinadas em 2023: {total_vacinados_2023}\")\n",
    "print(f\"Vacinas administradas em 2023: {vacinas_2023}\")\n"
   ]
  },
  {
   "cell_type": "code",
   "execution_count": 4,
   "metadata": {},
   "outputs": [
    {
     "data": {
      "image/png": "[encoded data removed]",
      "text/plain": [
       "<Figure size 640x480 with 1 Axes>"
      ]
     },
     "metadata": {},
     "output_type": "display_data"
    }
   ],
   "source": [
    "#Analisando o ano que mais teve vacinação e qual vacina foi mais utilizada\n",
    "\n",
    "import pandas as pd\n",
    "import matplotlib.pyplot as plt\n",
    "\n",
    "# Leia os dados do seu arquivo CSV\n",
    "tabela = pd.read_csv(\"vacinacao-covid.csv\")\n",
    "\n",
    "# Converta a coluna 'DATA' para o tipo datetime\n",
    "tabela['DATA'] = pd.to_datetime(tabela['DATA'])\n",
    "\n",
    "# Crie uma nova coluna 'ANO' com o ano da data\n",
    "tabela['ANO'] = tabela['DATA'].dt.year\n",
    "\n",
    "# Agrupe os dados por ano e tipo de vacina e calcule a quantidade total de cada tipo\n",
    "tabela_agrupada = tabela.groupby(['ANO', 'TP_VACINA'])['QUANTIDADE'].sum().reset_index()\n",
    "\n",
    "# Encontre o ano com a maior quantidade de vacinas tomadas\n",
    "ano_max = tabela_agrupada.loc[tabela_agrupada['QUANTIDADE'].idxmax(), 'ANO']\n",
    "\n",
    "# Filtre os dados para esse ano\n",
    "tabela_ano_max = tabela_agrupada[tabela_agrupada['ANO'] == ano_max]\n",
    "\n",
    "# Crie um gráfico de barras com o tipo de vacina no eixo x e a quantidade no eixo y\n",
    "plt.bar(tabela_ano_max['TP_VACINA'], tabela_ano_max['QUANTIDADE'])\n",
    "plt.xlabel('Tipo de Vacina')\n",
    "plt.ylabel('Quantidade')\n",
    "plt.title(f'Vacinas Tomadas em {ano_max}')\n",
    "plt.show()\n"
   ]
  },
  {
   "cell_type": "code",
   "execution_count": 5,
   "metadata": {},
   "outputs": [
    {
     "data": {
      "image/png": "[encoded data removed]",
      "text/plain": [
       "<Figure size 640x480 with 1 Axes>"
      ]
     },
     "metadata": {},
     "output_type": "display_data"
    }
   ],
   "source": [
    "#Mostrando o ano que menos teve vacinação e que vacina foi tomada\n",
    "\n",
    "import pandas as pd\n",
    "import matplotlib.pyplot as plt\n",
    "\n",
    "# Leia os dados do seu arquivo CSV\n",
    "tabela = pd.read_csv(\"vacinacao-covid.csv\")\n",
    "\n",
    "# Converta a coluna 'DATA' para o tipo datetime\n",
    "tabela['DATA'] = pd.to_datetime(tabela['DATA'])\n",
    "\n",
    "# Crie uma nova coluna 'ANO' com o ano da data\n",
    "tabela['ANO'] = tabela['DATA'].dt.year\n",
    "\n",
    "# Agrupe os dados por ano e tipo de vacina e calcule a quantidade total de cada tipo\n",
    "tabela_agrupada = tabela.groupby(['ANO', 'TP_VACINA'])['QUANTIDADE'].sum().reset_index()\n",
    "\n",
    "# Encontre o ano com a menor quantidade de vacinas tomadas\n",
    "ano_min = tabela_agrupada.loc[tabela_agrupada['QUANTIDADE'].idxmin(), 'ANO']\n",
    "\n",
    "# Filtre os dados para esse ano\n",
    "tabela_ano_min = tabela_agrupada[tabela_agrupada['ANO'] == ano_min]\n",
    "\n",
    "# Crie um gráfico de barras com o tipo de vacina no eixo x e a quantidade no eixo y\n",
    "plt.bar(tabela_ano_min['TP_VACINA'], tabela_ano_min['QUANTIDADE'])\n",
    "plt.xlabel('Tipo de Vacina')\n",
    "plt.ylabel('Quantidade')\n",
    "plt.title(f'Vacinas Tomadas em {ano_min}')\n",
    "plt.show()\n"
   ]
  },
  {
   "cell_type": "code",
   "execution_count": 6,
   "metadata": {},
   "outputs": [
    {
     "name": "stdout",
     "output_type": "stream",
     "text": [
      "     ANO    TP_VACINA  QUANTIDADE  PORCENTAGEM\n",
      "0   2021  AstraZeneca     7025858    33.093527\n",
      "1   2021    CoronaVac     5364410    25.267696\n",
      "2   2021      Janssen      541345     2.549869\n",
      "3   2021       Pfizer     8298696    39.088908\n",
      "4   2022  AstraZeneca     2249450    25.804210\n",
      "5   2022    CoronaVac      299780     3.438879\n",
      "6   2022      Janssen     1182420    13.563944\n",
      "7   2022       Pfizer     4985726    57.192967\n",
      "8   2023  AstraZeneca         -75    -0.004464\n",
      "9   2023    CoronaVac      159860     9.514666\n",
      "10  2023      Janssen        -250    -0.014880\n",
      "11  2023       Pfizer     1520608    90.504677\n",
      "12  2024    CoronaVac       58600    26.498811\n",
      "13  2024       Pfizer      162542    73.501189\n"
     ]
    }
   ],
   "source": [
    "import pandas as pd\n",
    "\n",
    "# Leia os dados do seu arquivo CSV\n",
    "tabela = pd.read_csv(\"vacinacao-covid.csv\")\n",
    "\n",
    "# Converta a coluna 'DATA' para o tipo datetime\n",
    "tabela['DATA'] = pd.to_datetime(tabela['DATA'])\n",
    "\n",
    "# Crie uma nova coluna 'ANO' com o ano da data\n",
    "tabela['ANO'] = tabela['DATA'].dt.year\n",
    "\n",
    "# Agrupe os dados por ano e tipo de vacina e calcule a quantidade total de cada tipo\n",
    "tabela_agrupada = tabela.groupby(['ANO', 'TP_VACINA'])['QUANTIDADE'].sum().reset_index()\n",
    "\n",
    "# Calcule a quantidade total de vacinas tomadas em cada ano\n",
    "total_por_ano = tabela_agrupada.groupby('ANO')['QUANTIDADE'].sum()\n",
    "\n",
    "# Calcule a porcentagem de cada tipo de vacina em cada ano\n",
    "tabela_agrupada['PORCENTAGEM'] = tabela_agrupada.apply(lambda row: (row['QUANTIDADE'] / total_por_ano[row['ANO']]) * 100, axis=1)\n",
    "\n",
    "# Agora 'tabela_agrupada' contém a porcentagem de cada tipo de vacina em cada ano\n",
    "print(tabela_agrupada)\n"
   ]
  },
  {
   "cell_type": "code",
   "execution_count": 9,
   "metadata": {},
   "outputs": [
    {
     "data": {
      "image/png": "[encoded data removed]",
      "text/plain": [
       "<Figure size 640x480 with 1 Axes>"
      ]
     },
     "metadata": {},
     "output_type": "display_data"
    }
   ],
   "source": [
    "import pandas as pd\n",
    "import matplotlib.pyplot as plt\n",
    "\n",
    "# Leia os dados do seu arquivo CSV\n",
    "tabela = pd.read_csv(\"vacinacao-covid.csv\")\n",
    "\n",
    "# Converta a coluna 'DATA' para o tipo datetime\n",
    "tabela['DATA'] = pd.to_datetime(tabela['DATA'])\n",
    "\n",
    "# Crie novas colunas 'ANO' e 'MES' com o ano e o mês da data\n",
    "tabela['ANO'] = tabela['DATA'].dt.year\n",
    "tabela['MES'] = tabela['DATA'].dt.month\n",
    "\n",
    "# Agrupe os dados por ano, mês e tipo de vacina e calcule a quantidade total de cada tipo\n",
    "tabela_agrupada = tabela.groupby(['ANO', 'MES', 'TP_VACINA'])['QUANTIDADE'].sum().reset_index()\n",
    "\n",
    "# Encontre o ano e o mês com a maior quantidade de vacinas tomadas\n",
    "ano_max, mes_max = tabela_agrupada.loc[tabela_agrupada['QUANTIDADE'].idxmax(), ['ANO', 'MES']]\n",
    "\n",
    "# Filtre os dados para esse ano e mês\n",
    "tabela_ano_mes_max = tabela_agrupada[(tabela_agrupada['ANO'] == ano_max) & (tabela_agrupada['MES'] == mes_max)]\n",
    "\n",
    "# Crie um gráfico de barras com o tipo de vacina no eixo x e a quantidade no eixo y\n",
    "plt.bar(tabela_ano_mes_max['TP_VACINA'], tabela_ano_mes_max['QUANTIDADE'])\n",
    "plt.xlabel('Tipo de Vacina')\n",
    "plt.ylabel('Quantidade')\n",
    "plt.title(f'Vacinas Tomadas em {mes_max}/{ano_max}')\n",
    "plt.show()\n"
   ]
  },
  {
   "cell_type": "code",
   "execution_count": 13,
   "metadata": {},
   "outputs": [
    {
     "data": {
      "image/png": "[encoded data removed]",
      "text/plain": [
       "<Figure size 640x480 with 1 Axes>"
      ]
     },
     "metadata": {},
     "output_type": "display_data"
    }
   ],
   "source": [
    "import pandas as pd\n",
    "import matplotlib.pyplot as plt\n",
    "\n",
    "# Leia os dados do seu arquivo CSV\n",
    "tabela = pd.read_csv(\"vacinacao-covid.csv\")\n",
    "\n",
    "# Converta a coluna 'DATA' para o tipo datetime\n",
    "tabela['DATA'] = pd.to_datetime(tabela['DATA'])\n",
    "\n",
    "# Crie uma nova coluna 'ANO' com o ano da data\n",
    "tabela['ANO'] = tabela['DATA'].dt.year\n",
    "\n",
    "# Agrupe os dados por ano e calcule a quantidade total de vacinas tomadas em cada ano\n",
    "tabela_agrupada = tabela.groupby('ANO')['QUANTIDADE'].sum()\n",
    "\n",
    "# Crie um gráfico de barras com o ano no eixo x e a quantidade no eixo y\n",
    "plt.bar(tabela_agrupada.index, tabela_agrupada.values)\n",
    "plt.xlabel('Ano')\n",
    "\n",
    "\n",
    "\n",
    "plt.title('Quantidade Total de Vacinas Tomadas por Ano')\n",
    "plt.show()\n"
   ]
  }
 ],
 "metadata": {
  "kernelspec": {
   "display_name": "venv",
   "language": "python",
   "name": "python3"
  },
  "language_info": {
   "codemirror_mode": {
    "name": "ipython",
    "version": 3
   },
   "file_extension": ".py",
   "mimetype": "text/x-python",
   "name": "python",
   "nbconvert_exporter": "python",
   "pygments_lexer": "ipython3",
   "version": "3.11.4"
  }
 },
 "nbformat": 4,
 "nbformat_minor": 2
}
