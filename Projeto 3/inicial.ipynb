{
 "cells": [
  {
   "cell_type": "markdown",
   "metadata": {},
   "source": [
    "# Projeto Python IA: Inteligência Artificial e Previsões\n",
    "\n",
    "### Case: Score de Crédito dos Clientes\n",
    "\n",
    "Você foi contratado por um banco para conseguir definir o score de crédito dos clientes. Você precisa analisar todos os clientes do banco e, com base nessa análise, criar um modelo que consiga ler as informações do cliente e dizer automaticamente o score de crédito dele: Ruim, Ok, Bom\n",
    "\n",
    "Arquivos da aula: https://drive.google.com/drive/folders/1FbDqVq4XLvU85VBlVIMJ73p9oOu6u2-J?usp=drive_link"
   ]
  },
  {
   "cell_type": "code",
   "execution_count": null,
   "metadata": {},
   "outputs": [],
   "source": [
    "# Passo a passo do projeto\n",
    "# passo 0 -> Enteder o desafio da empresa\n",
    "# Passo 1 -> importar a base de dados\n",
    "# Passo 2 -> Preparar a base de dados para a inteligência artificial \n",
    "# Passo 3 -> Criar um modelo de IA -> Score crédito: bom, ok, Ruim\n",
    "# Passo 4 -> Escolher o melhor modelo \n",
    "# Passo 5 -> Usar a nossa IA para fazer novas previsões\n",
    "\n",
    "#vamos utilizar pandas e scikit-learn \n",
    "!pip install scikit-learn\n"
   ]
  },
  {
   "cell_type": "code",
   "execution_count": null,
   "metadata": {},
   "outputs": [],
   "source": [
    "#Passo 1 -> importar a base de dados\n",
    "\n",
    "import pandas as pd \n",
    "\n",
    "tabela = pd.read_csv(\"clientes.csv\")\n",
    "\n",
    "display(tabela)\n",
    "\n",
    "display(tabela.info())\n",
    "#Good(bom),Standard(ok),Poor(Ruim)\n"
   ]
  },
  {
   "cell_type": "code",
   "execution_count": null,
   "metadata": {},
   "outputs": [],
   "source": [
    "# Passo 2 -> Preparar a base de dados para a inteligência artificial \n",
    "#int -> numero inteiro\n",
    "#float -> casa decimal\n",
    "#object -> texto\n",
    "# As inteligências artificial nao consegue aprender em texto so em número\n",
    "\n",
    "#LABEL ENCODER Transforma uma informação em texto em numero \n",
    "#label endoder -> nao precismos utilizar no score_credito pq é ele quem nos queremos prever.\n",
    "#vamos utilizar o label encoder -> nas colunas profissao, mix_credito, comportamento_pagamento\n",
    "\n",
    "#como utilizar label encoder passos.\n",
    "#importar o label encoder\n",
    "\n",
    "from sklearn.preprocessing import LabelEncoder\n",
    "# vai transformar as colunas de texto em números, ex: profissoes vai sair de cientista, professor, mecanico, etc para 0, 1, 2, etc\n",
    "codificador = LabelEncoder()\n",
    "\n",
    "# só não aplicamos na coluna de score_credito que é o nosso objetivo\n",
    "for coluna in tabela.columns:\n",
    "    if tabela[coluna].dtype == \"object\" and coluna != \"score_credito\":\n",
    "        tabela[coluna] = codificador.fit_transform(tabela[coluna])\n",
    "\n",
    "# verificando se realmente todas as colunas foram modificadas\n",
    "display(tabela.info())"
   ]
  },
  {
   "cell_type": "code",
   "execution_count": null,
   "metadata": {},
   "outputs": [],
   "source": [
    "# Passo 2.1 Divisões Quem quero prever, quem eu quero usar pra fazer a previsão\n",
    "\n",
    "x = tabela.drop([\"score_credito\", \"id_cliente\"], axis=1)\n",
    "y = tabela[\"score_credito\"]\n",
    "\n",
    "# Passo 2.2 Divisões Treino e teste para IA\n",
    "from sklearn.model_selection import train_test_split\n",
    "\n",
    "x_treino, x_teste, y_treino, y_teste = train_test_split(x,y)\n",
    "\n"
   ]
  },
  {
   "cell_type": "code",
   "execution_count": null,
   "metadata": {},
   "outputs": [],
   "source": [
    "#criando a interligência artificial \n",
    "#modelos de interligência artificial -> Árvore de Decisão e KNN Vizinhos proximos(nearest neighbors)\n",
    "\n",
    "#importa a interligência artificial\n",
    "from sklearn.ensemble import RandomForestClassifier\n",
    "from sklearn.neighbors import KNeighborsClassifier\n",
    "\n",
    "#cria a interligência artificial\n",
    "modelo_arvore= RandomForestClassifier()\n",
    "modelo_knn = KNeighborsClassifier()\n",
    "\n",
    "#treinar a interligência artificial\n",
    "modelo_arvore.fit(x_treino, y_treino)\n",
    "modelo_knn.fit(x_treino, y_treino)\n"
   ]
  },
  {
   "cell_type": "code",
   "execution_count": null,
   "metadata": {},
   "outputs": [],
   "source": [
    "# testando os modelos\n",
    "previsao_arvoredecisao = modelo_arvore.predict(x_teste)\n",
    "previsao_knn = modelo_knn.predict(x_teste)\n",
    "\n",
    "#quanto acertos ou precisao os modelos tem.\n",
    "from sklearn.metrics import accuracy_score\n",
    "\n",
    "print(accuracy_score(y_teste,previsao_arvoredecisao))\n",
    "print(accuracy_score(y_teste, previsao_knn))"
   ]
  },
  {
   "cell_type": "code",
   "execution_count": null,
   "metadata": {},
   "outputs": [],
   "source": [
    "# o melhor modelo é o de arvore de decisão\n",
    "tabela_nova = pd.read_csv(\"novos_clientes.csv\")\n",
    "display(tabela_nova)\n",
    "\n",
    "tabela_nova[\"profissao\"] = codificador.fit_transform(tabela_nova[\"profissao\"])\n",
    "tabela_nova[\"mix_credito\"] = codificador.fit_transform(tabela_nova[\"mix_credito\"])\n",
    "tabela_nova[\"comportamento_pagamento\"] = codificador.fit_transform(tabela_nova[\"comportamento_pagamento\"])\n",
    "\n",
    "previsoes = modelo_arvore.predict(tabela_nova)\n",
    "display(previsoes)"
   ]
  }
 ],
 "metadata": {
  "kernelspec": {
   "display_name": "Python 3",
   "language": "python",
   "name": "python3"
  },
  "language_info": {
   "codemirror_mode": {
    "name": "ipython",
    "version": 3
   },
   "file_extension": ".py",
   "mimetype": "text/x-python",
   "name": "python",
   "nbconvert_exporter": "python",
   "pygments_lexer": "ipython3",
   "version": "3.11.4"
  },
  "orig_nbformat": 4
 },
 "nbformat": 4,
 "nbformat_minor": 2
}
